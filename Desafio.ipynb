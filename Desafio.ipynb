{
 "cells": [
  {
   "cell_type": "markdown",
   "id": "77833b9b",
   "metadata": {},
   "source": [
    "# Desafio\n",
    "> Quais modelos de bibleta de produtos vendidos?"
   ]
  },
  {
   "cell_type": "code",
   "execution_count": 36,
   "id": "c3f45a3c",
   "metadata": {},
   "outputs": [],
   "source": [
    "import pandas as pd"
   ]
  },
  {
   "cell_type": "code",
   "execution_count": 37,
   "id": "81ee2205",
   "metadata": {},
   "outputs": [],
   "source": [
    "df = pd.read_csv('datasets\\TABELA_VENDAS.csv')"
   ]
  },
  {
   "cell_type": "code",
   "execution_count": 41,
   "id": "cde5e5e6",
   "metadata": {},
   "outputs": [
    {
     "data": {
      "text/html": [
       "<div>\n",
       "<style scoped>\n",
       "    .dataframe tbody tr th:only-of-type {\n",
       "        vertical-align: middle;\n",
       "    }\n",
       "\n",
       "    .dataframe tbody tr th {\n",
       "        vertical-align: top;\n",
       "    }\n",
       "\n",
       "    .dataframe thead th {\n",
       "        text-align: right;\n",
       "    }\n",
       "</style>\n",
       "<table border=\"1\" class=\"dataframe\">\n",
       "  <thead>\n",
       "    <tr style=\"text-align: right;\">\n",
       "      <th></th>\n",
       "      <th>Modelo</th>\n",
       "      <th>Cor</th>\n",
       "    </tr>\n",
       "  </thead>\n",
       "  <tbody>\n",
       "    <tr>\n",
       "      <th>1</th>\n",
       "      <td>Road-150</td>\n",
       "      <td>Vermelho</td>\n",
       "    </tr>\n",
       "    <tr>\n",
       "      <th>8</th>\n",
       "      <td>Road-650</td>\n",
       "      <td>Vermelho</td>\n",
       "    </tr>\n",
       "    <tr>\n",
       "      <th>46</th>\n",
       "      <td>Road-250</td>\n",
       "      <td>Vermelho</td>\n",
       "    </tr>\n",
       "  </tbody>\n",
       "</table>\n",
       "</div>"
      ],
      "text/plain": [
       "      Modelo       Cor\n",
       "1   Road-150  Vermelho\n",
       "8   Road-650  Vermelho\n",
       "46  Road-250  Vermelho"
      ]
     },
     "execution_count": 41,
     "metadata": {},
     "output_type": "execute_result"
    }
   ],
   "source": [
    "modelos_vendidos_cor_vermelha = df[(df['Cor'] == 'Vermelho') & (df['Categoria'] == 'Bicicletas')][[\"Modelo\", \"Cor\"]].drop_duplicates()\n",
    "\n",
    "modelos_vendidos_cor_vermelha"
   ]
  },
  {
   "cell_type": "code",
   "execution_count": 17,
   "id": "115c6a12",
   "metadata": {},
   "outputs": [
    {
     "name": "stdout",
     "output_type": "stream",
     "text": [
      "Total de bicicletas vermelhas vendidas: 1484\n"
     ]
    }
   ],
   "source": [
    "total_vermelhos = df[df['Cor'] == 'Vermelho']['Pedidos Qtd'].sum()\n",
    "\n",
    "print(f'Total de bicicletas vermelhas vendidas: {total_vermelhos}')"
   ]
  }
 ],
 "metadata": {
  "kernelspec": {
   "display_name": "Python 3 (ipykernel)",
   "language": "python",
   "name": "python3"
  },
  "language_info": {
   "codemirror_mode": {
    "name": "ipython",
    "version": 3
   },
   "file_extension": ".py",
   "mimetype": "text/x-python",
   "name": "python",
   "nbconvert_exporter": "python",
   "pygments_lexer": "ipython3",
   "version": "3.11.5"
  }
 },
 "nbformat": 4,
 "nbformat_minor": 5
}
